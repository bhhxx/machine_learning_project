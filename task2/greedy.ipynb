{
 "cells": [
  {
   "cell_type": "code",
   "execution_count": null,
   "metadata": {},
   "outputs": [],
   "source": [
    "\n",
    "synthesisOpToPosDic = {\n",
    "    0: \"refactor\",\n",
    "    1: \"refactor -z\",\n",
    "    2: \"rewrite\",\n",
    "    3: \"rewrite -z\",\n",
    "    4: \"resub\",\n",
    "    5: \"resub -z\",\n",
    "    6: \"balance\"\n",
    "}\n",
    "\n",
    "AIG = 'alu4.aig'\n",
    "libFile = './lib/7nm/7nm.lib'\n",
    "logFile = 'alu4.log'\n",
    "\n",
    "for step in range(10):\n",
    "    childs = [] \n",
    "    for child in range(7):\n",
    "        childFile = 'alu4_' + str(child) + '.aig'\n",
    "        abcRunCmd = './yosys-abc -c \"read ' + AIG + ';' + synthesisOpToPosDic[child] + '; read_lib ' + libFile + '; write ' + childFile + '; print_stats\" > ' + logFile\n",
    "        os.system(abcRunCmd)\n",
    "        childs.append(childFile)\n",
    "    childScores = Evaluation(childs)\n",
    "    action = argmax(childScores)\n",
    "    AIG = childs[action]\n",
    "\n",
    "abcRunCmd = './yosys-abc -c \"read ' + AIG + '; read_lib ' + libFile + '; map; topo; stime\" > ' + logFile\n",
    "os.system(abcRunCmd)\n",
    "\n",
    "with open(logFile) as f:\n",
    "    areaInformation = re.findall('[a-zA-Z0-9\\.]+', f.readlines()[-1])\n",
    "    adpVal = float(areaInformation[-9]) + float(areaInformation[-4])\n",
    "\n",
    "return (baseline - adpVal) / baseline\n"
   ]
  }
 ],
 "metadata": {
  "language_info": {
   "name": "python"
  }
 },
 "nbformat": 4,
 "nbformat_minor": 2
}
