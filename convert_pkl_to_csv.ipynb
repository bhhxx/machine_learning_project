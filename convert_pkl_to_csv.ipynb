{
 "cells": [
  {
   "cell_type": "code",
   "execution_count": 3,
   "metadata": {},
   "outputs": [],
   "source": [
    "import os \n",
    "import pickle\n",
    "import csv\n",
    "# 将pkl文件展开，并且将文件名和label写入csv文件\n",
    "i = 0\n",
    "with open('/home/jiangzhengqun/ml/dataset1/test_data.csv', mode='w', newline='') as csv_file:\n",
    "    writer = csv.writer(csv_file)\n",
    "    writer.writerow(['filename', 'label'])\n",
    "    for filename in os.listdir('/home/jiangzhengqun/ml/dataset1/task1_test_data'):\n",
    "            file_path = os.path.join('/home/jiangzhengqun/ml/dataset1/task1_test_data', filename)\n",
    "            with open(file_path, 'rb') as f:\n",
    "                data = pickle.load(f)\n",
    "                graph = data['graph']\n",
    "                label = data['label']\n",
    "                for j in range(len(graph)):\n",
    "                    tem = 'graph' + str(i) + '.pkl'\n",
    "                    with open('/home/jiangzhengqun/ml/dataset1/test_data/' + tem, 'wb') as f:\n",
    "                        pickle.dump(graph[j], f)\n",
    "                    writer.writerow([tem, label[j]])\n",
    "                    i += 1\n",
    "\n"
   ]
  }
 ],
 "metadata": {
  "kernelspec": {
   "display_name": "jzq",
   "language": "python",
   "name": "python3"
  },
  "language_info": {
   "codemirror_mode": {
    "name": "ipython",
    "version": 3
   },
   "file_extension": ".py",
   "mimetype": "text/x-python",
   "name": "python",
   "nbconvert_exporter": "python",
   "pygments_lexer": "ipython3",
   "version": "3.12.2"
  }
 },
 "nbformat": 4,
 "nbformat_minor": 2
}
